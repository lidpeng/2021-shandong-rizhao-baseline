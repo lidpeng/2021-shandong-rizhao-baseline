{
 "cells": [
  {
   "cell_type": "code",
   "execution_count": 1,
   "metadata": {
    "ExecuteTime": {
     "end_time": "2019-09-27T00:26:54.238312Z",
     "start_time": "2019-09-27T00:26:52.234675Z"
    }
   },
   "outputs": [],
   "source": [
    "#! -*- coding:utf-8 -*-\n",
    "import re, os, json, codecs, gc\n",
    "os.environ[\"CUDA_VISIBLE_DEVICES\"]=\"1\"\n",
    "\n",
    "import numpy as np\n",
    "import pandas as pd\n",
    "from random import choice\n",
    "from sklearn.preprocessing import LabelEncoder\n",
    "from sklearn.model_selection import KFold\n",
    "from keras_bert import load_trained_model_from_checkpoint, Tokenizer\n",
    "\n",
    "from keras.layers import *\n",
    "from keras.callbacks import *\n",
    "from keras.models import Model\n",
    "import keras.backend as K\n",
    "from keras.optimizers import adam_v2"
   ]
  },
  {
   "cell_type": "code",
   "execution_count": 2,
   "metadata": {
    "ExecuteTime": {
     "end_time": "2019-09-27T00:26:56.936586Z",
     "start_time": "2019-09-27T00:26:56.467897Z"
    },
    "scrolled": true
   },
   "outputs": [
    {
     "name": "stdout",
     "output_type": "stream",
     "text": [
      "(480024, 17)\n"
     ]
    }
   ],
   "source": [
    "train_df = pd.read_csv('training_set.csv')\n",
    "test_df = pd.read_csv('first_test_set.csv')\n",
    "submit_df = pd.read_csv('初赛-submit.csv')\n",
    "print(train_df.shape)"
   ]
  },
  {
   "cell_type": "code",
   "execution_count": 116,
   "metadata": {},
   "outputs": [
    {
     "data": {
      "text/plain": [
       "Index(['rec_id', 'create_time', 'address', 'event_desc', 'event_src_name',\n",
       "       'main_type_name', 'sub_type_name', 'district_name', 'community_name',\n",
       "       'cell_name', 'duty_grid_name', 'coordinate_x', 'coordinate_y',\n",
       "       'event_level_name', 'report_patrol_name', 'dispose_region_name',\n",
       "       'first_unit_name', 'text', 'label'],\n",
       "      dtype='object')"
      ]
     },
     "execution_count": 116,
     "metadata": {},
     "output_type": "execute_result"
    }
   ],
   "source": [
    "train_df.columns"
   ]
  },
  {
   "cell_type": "code",
   "execution_count": 3,
   "metadata": {},
   "outputs": [],
   "source": [
    "cate_fea = ['address','event_desc','event_src_name','main_type_name','sub_type_name','district_name','community_name','duty_grid_name','event_level_name','report_patrol_name','dispose_region_name']\n",
    "locate_fea = ['coordinate_x','coordinate_y']\n",
    "# time_fea = ['delta_seconds']"
   ]
  },
  {
   "cell_type": "code",
   "execution_count": 4,
   "metadata": {},
   "outputs": [],
   "source": [
    "train_df = train_df.fillna(\"空值\")\n",
    "test_df = test_df.fillna(\"空值\")\n",
    "\n",
    "train_df['text'] = train_df.loc[:,cate_fea[0]].copy()\n",
    "test_df['text'] = test_df.loc[:,cate_fea[0]].copy()\n",
    "\n",
    "for cate in cate_fea[1:]:\n",
    "    train_df['text'] = train_df['text'].map(str) +' '+train_df[cate].map(str)\n",
    "    test_df['text'] = test_df['text'].map(str) +' '+test_df[cate].map(str)"
   ]
  },
  {
   "cell_type": "code",
   "execution_count": 5,
   "metadata": {},
   "outputs": [],
   "source": [
    "# Label Encode for label\n",
    "lbl = LabelEncoder().fit(train_df['first_unit_name'])\n",
    "train_df.loc[:,'label'] = lbl.transform(train_df['first_unit_name'])"
   ]
  },
  {
   "cell_type": "code",
   "execution_count": 6,
   "metadata": {
    "ExecuteTime": {
     "end_time": "2019-09-27T00:26:57.268197Z",
     "start_time": "2019-09-27T00:26:57.189701Z"
    }
   },
   "outputs": [],
   "source": [
    "#! -*- coding:utf-8 -*-\n",
    "import re, os, json, codecs, gc\n",
    "import numpy as np\n",
    "import pandas as pd\n",
    "from random import choice\n",
    "from sklearn.preprocessing import LabelEncoder\n",
    "from sklearn.model_selection import KFold\n",
    "from keras_bert import load_trained_model_from_checkpoint, Tokenizer\n",
    "\n",
    "from keras.layers import *\n",
    "from keras.callbacks import *\n",
    "from keras.models import Model\n",
    "import keras.backend as K\n",
    "from keras.optimizers import adam_v2\n",
    "\n",
    "maxlen = 128\n",
    "config_path = \"/home/ldp/competitions/bert/chinese_L-12_H-768_A-12/bert_config.json\"\n",
    "checkpoint_path = '/home/ldp/competitions/bert/chinese_L-12_H-768_A-12/bert_model.ckpt'\n",
    "dict_path = '/home/ldp/competitions/bert/chinese_L-12_H-768_A-12/vocab.txt'\n",
    "\n",
    "token_dict = {}\n",
    "with codecs.open(dict_path, 'r', 'utf8') as reader:\n",
    "    for line in reader:\n",
    "        token = line.strip()\n",
    "        token_dict[token] = len(token_dict)\n",
    "\n",
    "class OurTokenizer(Tokenizer):\n",
    "    def _tokenize(self, text):\n",
    "        R = []\n",
    "        for c in text:\n",
    "            if c in self._token_dict:\n",
    "                R.append(c)\n",
    "            elif self._is_space(c):\n",
    "                R.append('[unused1]')  \n",
    "            else:\n",
    "                R.append('[UNK]')  \n",
    "        return R\n",
    "\n",
    "tokenizer = OurTokenizer(token_dict)\n",
    "\n",
    "def seq_padding(X, padding=0):\n",
    "    L = [len(x) for x in X]\n",
    "    ML = max(L)\n",
    "    return np.array([\n",
    "        np.concatenate([x, [padding] * (ML - len(x))]) if len(x) < ML else x for x in X\n",
    "    ])\n",
    "\n",
    "class data_generator:\n",
    "    def __init__(self, data, batch_size=8, shuffle=True):\n",
    "        self.data = data\n",
    "        self.batch_size = batch_size\n",
    "        self.shuffle = shuffle\n",
    "        self.steps = len(self.data) // self.batch_size\n",
    "        if len(self.data) % self.batch_size != 0:\n",
    "            self.steps += 1\n",
    "    def __len__(self):\n",
    "        return self.steps\n",
    "    def __iter__(self):\n",
    "        while True:\n",
    "            idxs = list(range(len(self.data)))\n",
    "            \n",
    "            if self.shuffle:\n",
    "                np.random.shuffle(idxs)\n",
    "            \n",
    "            X1, X2, Y = [], [], []\n",
    "            for i in idxs:\n",
    "                d = self.data[i]\n",
    "                text = d[0][:maxlen]\n",
    "                x1, x2 = tokenizer.encode(first=text)\n",
    "                y = d[1]\n",
    "                X1.append(x1)\n",
    "                X2.append(x2)\n",
    "                Y.append([y])\n",
    "                if len(X1) == self.batch_size or i == idxs[-1]:\n",
    "                    X1 = seq_padding(X1)\n",
    "                    X2 = seq_padding(X2)\n",
    "                    Y = seq_padding(Y)\n",
    "                    yield [X1, X2], Y[:, 0, :]\n",
    "                    [X1, X2, Y] = [], [], []\n",
    "\n",
    "from keras.metrics import top_k_categorical_accuracy\n",
    "def acc_top2(y_true, y_pred):\n",
    "    return top_k_categorical_accuracy(y_true, y_pred, k=2)\n",
    "                    \n",
    "def build_bert(nclass):\n",
    "    bert_model = load_trained_model_from_checkpoint(config_path, checkpoint_path, seq_len=None)\n",
    "\n",
    "    for l in bert_model.layers[:]:\n",
    "        l.trainable = True\n",
    "\n",
    "    x1_in = Input(shape=(None,))\n",
    "    x2_in = Input(shape=(None,))\n",
    "\n",
    "    x = bert_model([x1_in, x2_in])\n",
    "    x = Lambda(lambda x: x[:, 0])(x)\n",
    "    p = Dense(nclass, activation='softmax')(x)\n",
    "\n",
    "\n",
    "    model = Model([x1_in, x2_in], p)\n",
    "    model.compile(loss='categorical_crossentropy', \n",
    "                  optimizer=adam_v2.Adam(1e-5),\n",
    "                  metrics=['accuracy', acc_top2])\n",
    "    print(model.summary())\n",
    "    return model"
   ]
  },
  {
   "cell_type": "code",
   "execution_count": 7,
   "metadata": {
    "ExecuteTime": {
     "end_time": "2019-09-27T00:26:58.807094Z",
     "start_time": "2019-09-27T00:26:58.487181Z"
    }
   },
   "outputs": [],
   "source": [
    "from tensorflow.keras.utils import to_categorical\n",
    "\n",
    "DATA_LIST = []\n",
    "for data_row in train_df.iloc[:].itertuples():\n",
    "    DATA_LIST.append((data_row.text, to_categorical(data_row.label, len(lbl.classes_))))\n",
    "DATA_LIST = np.array(DATA_LIST, dtype=object)\n",
    "\n",
    "DATA_LIST_TEST = []\n",
    "for data_row in test_df.iloc[:].itertuples():\n",
    "    DATA_LIST_TEST.append((data_row.text, to_categorical(0, len(lbl.classes_))))\n",
    "DATA_LIST_TEST = np.array(DATA_LIST_TEST,  dtype=object)"
   ]
  },
  {
   "cell_type": "code",
   "execution_count": 8,
   "metadata": {
    "ExecuteTime": {
     "end_time": "2019-09-27T00:26:59.710225Z",
     "start_time": "2019-09-27T00:26:59.589719Z"
    }
   },
   "outputs": [
    {
     "name": "stdout",
     "output_type": "stream",
     "text": [
      "mkdir: cannot create directory ‘bert_dump’: File exists\n"
     ]
    }
   ],
   "source": [
    "!mkdir bert_dump"
   ]
  },
  {
   "cell_type": "code",
   "execution_count": 19,
   "metadata": {
    "ExecuteTime": {
     "end_time": "2019-09-27T00:27:00.419929Z",
     "start_time": "2019-09-27T00:27:00.407640Z"
    }
   },
   "outputs": [],
   "source": [
    "def run_cv(nfold, data, data_label, data_test):\n",
    "    kf = KFold(n_splits=nfold, shuffle=True, random_state=520).split(data)\n",
    "    train_model_pred = np.zeros((len(data), len(lbl.classes_)))\n",
    "    test_model_pred = np.zeros((len(data_test), len(lbl.classes_)))\n",
    "\n",
    "    for i, (train_fold, test_fold) in enumerate(kf):\n",
    "        print('fold:',i)\n",
    "        if i < 3:\n",
    "            continue\n",
    "        X_train, X_valid, = data[train_fold, :], data[test_fold, :]\n",
    "        \n",
    "        model = build_bert(len(lbl.classes_))\n",
    "        early_stopping = EarlyStopping(monitor='val_acc', patience=3)\n",
    "        plateau = ReduceLROnPlateau(monitor=\"val_acc\", verbose=1, mode='max', factor=0.5, patience=2)\n",
    "        checkpoint = ModelCheckpoint('./bert_dump/' + str(i) + '_ckp.hdf5', monitor='val_acc', \n",
    "                                         verbose=2, save_best_only=False, mode='max',save_weights_only=True)\n",
    "        \n",
    "        train_D = data_generator(X_train, shuffle=True)\n",
    "        valid_D = data_generator(X_valid, shuffle=True)\n",
    "        test_D = data_generator(data_test, shuffle=False)\n",
    "        \n",
    "        model.fit(\n",
    "            train_D.__iter__(),\n",
    "            steps_per_epoch=len(train_D),\n",
    "            epochs=3,\n",
    "            validation_data=valid_D.__iter__(),\n",
    "            validation_steps=len(valid_D),\n",
    "            callbacks=[early_stopping, plateau, checkpoint],\n",
    "        )\n",
    "        \n",
    "        # model.load_weights('./bert_dump/' + str(i) + '.hdf5')\n",
    "\n",
    "        # return model\n",
    "        train_model_pred[test_fold, :] =  model.predict(valid_D.__iter__(), steps=len(valid_D),verbose=1)\n",
    "        test_model_pred += model.predict(test_D.__iter__(), steps=len(test_D),verbose=1)\n",
    "        model.save_weights(f'bert_dump/{i}_bert.hdf5')\n",
    "        del model; gc.collect()\n",
    "        K.clear_session()\n",
    "        \n",
    "        # break\n",
    "        \n",
    "    return train_model_pred, test_model_pred"
   ]
  },
  {
   "cell_type": "code",
   "execution_count": 20,
   "metadata": {
    "ExecuteTime": {
     "start_time": "2019-09-27T00:27:02.107Z"
    }
   },
   "outputs": [
    {
     "name": "stdout",
     "output_type": "stream",
     "text": [
      "fold: 0\n",
      "fold: 1\n",
      "fold: 2\n",
      "fold: 3\n",
      "Model: \"model_2\"\n",
      "__________________________________________________________________________________________________\n",
      " Layer (type)                   Output Shape         Param #     Connected to                     \n",
      "==================================================================================================\n",
      " input_1 (InputLayer)           [(None, None)]       0           []                               \n",
      "                                                                                                  \n",
      " input_2 (InputLayer)           [(None, None)]       0           []                               \n",
      "                                                                                                  \n",
      " model_1 (Functional)           (None, None, 768)    101677056   ['input_1[0][0]',                \n",
      "                                                                  'input_2[0][0]']                \n",
      "                                                                                                  \n",
      " lambda (Lambda)                (None, 768)          0           ['model_1[0][0]']                \n",
      "                                                                                                  \n",
      " dense (Dense)                  (None, 128)          98432       ['lambda[0][0]']                 \n",
      "                                                                                                  \n",
      " dense_1 (Dense)                (None, 98)           12642       ['dense[0][0]']                  \n",
      "                                                                                                  \n",
      "==================================================================================================\n",
      "Total params: 101,788,130\n",
      "Trainable params: 101,788,130\n",
      "Non-trainable params: 0\n",
      "__________________________________________________________________________________________________\n",
      "None\n",
      "Epoch 1/3\n",
      "45003/45003 [==============================] - ETA: 0s - loss: 0.6862 - accuracy: 0.8409 - acc_top2: 0.9329WARNING:tensorflow:Early stopping conditioned on metric `val_acc` which is not available. Available metrics are: loss,accuracy,acc_top2,val_loss,val_accuracy,val_acc_top2\n",
      "WARNING:tensorflow:Learning rate reduction is conditioned on metric `val_acc` which is not available. Available metrics are: loss,accuracy,acc_top2,val_loss,val_accuracy,val_acc_top2,lr\n",
      "\n",
      "Epoch 00001: saving model to ./bert_dump/3_ckp.hdf5\n",
      "45003/45003 [==============================] - 7193s 159ms/step - loss: 0.6862 - accuracy: 0.8409 - acc_top2: 0.9329 - val_loss: 0.4505 - val_accuracy: 0.8650 - val_acc_top2: 0.9564 - lr: 1.0000e-05\n",
      "Epoch 2/3\n",
      "45003/45003 [==============================] - ETA: 0s - loss: 0.4107 - accuracy: 0.8725 - acc_top2: 0.9616WARNING:tensorflow:Early stopping conditioned on metric `val_acc` which is not available. Available metrics are: loss,accuracy,acc_top2,val_loss,val_accuracy,val_acc_top2\n",
      "WARNING:tensorflow:Learning rate reduction is conditioned on metric `val_acc` which is not available. Available metrics are: loss,accuracy,acc_top2,val_loss,val_accuracy,val_acc_top2,lr\n",
      "\n",
      "Epoch 00002: saving model to ./bert_dump/3_ckp.hdf5\n",
      "45003/45003 [==============================] - 7181s 160ms/step - loss: 0.4107 - accuracy: 0.8725 - acc_top2: 0.9616 - val_loss: 0.3908 - val_accuracy: 0.8740 - val_acc_top2: 0.9636 - lr: 1.0000e-05\n",
      "Epoch 3/3\n",
      "45003/45003 [==============================] - ETA: 0s - loss: 0.3558 - accuracy: 0.8831 - acc_top2: 0.9685WARNING:tensorflow:Early stopping conditioned on metric `val_acc` which is not available. Available metrics are: loss,accuracy,acc_top2,val_loss,val_accuracy,val_acc_top2\n",
      "WARNING:tensorflow:Learning rate reduction is conditioned on metric `val_acc` which is not available. Available metrics are: loss,accuracy,acc_top2,val_loss,val_accuracy,val_acc_top2,lr\n",
      "\n",
      "Epoch 00003: saving model to ./bert_dump/3_ckp.hdf5\n",
      "45003/45003 [==============================] - 7093s 158ms/step - loss: 0.3558 - accuracy: 0.8831 - acc_top2: 0.9685 - val_loss: 0.3691 - val_accuracy: 0.8780 - val_acc_top2: 0.9663 - lr: 1.0000e-05\n",
      "12500/12500 [==============================] - 582s 46ms/step\n"
     ]
    }
   ],
   "source": [
    "train_model_pred, test_model_pred = run_cv(4, DATA_LIST, None, DATA_LIST_TEST)"
   ]
  },
  {
   "cell_type": "code",
   "execution_count": 21,
   "metadata": {
    "ExecuteTime": {
     "end_time": "2019-09-27T01:42:19.650947Z",
     "start_time": "2019-09-27T01:42:19.645201Z"
    }
   },
   "outputs": [],
   "source": [
    "submit_df['first_unit_name'] = lbl.inverse_transform(np.argmax(test_model_pred, 1))"
   ]
  },
  {
   "cell_type": "code",
   "execution_count": null,
   "metadata": {},
   "outputs": [],
   "source": [
    "submit_df.to_csv('submit.csv',index = False)"
   ]
  },
  {
   "cell_type": "code",
   "execution_count": null,
   "metadata": {},
   "outputs": [],
   "source": [
    "# train_model_pred.to_csv('bert_train_result.csv',index = False)"
   ]
  },
  {
   "cell_type": "code",
   "execution_count": null,
   "metadata": {},
   "outputs": [],
   "source": []
  }
 ],
 "metadata": {
  "kernelspec": {
   "display_name": "Python 3",
   "language": "python",
   "name": "python3"
  },
  "language_info": {
   "codemirror_mode": {
    "name": "ipython",
    "version": 3
   },
   "file_extension": ".py",
   "mimetype": "text/x-python",
   "name": "python",
   "nbconvert_exporter": "python",
   "pygments_lexer": "ipython3",
   "version": "3.8.5"
  },
  "toc": {
   "base_numbering": 1,
   "nav_menu": {},
   "number_sections": true,
   "sideBar": true,
   "skip_h1_title": false,
   "title_cell": "Table of Contents",
   "title_sidebar": "Contents",
   "toc_cell": false,
   "toc_position": {},
   "toc_section_display": true,
   "toc_window_display": false
  }
 },
 "nbformat": 4,
 "nbformat_minor": 2
}
